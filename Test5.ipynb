{
  "nbformat": 4,
  "nbformat_minor": 0,
  "metadata": {
    "colab": {
      "provenance": [],
      "authorship_tag": "ABX9TyM6X4VoJV9nSeD4ZLcE0uox",
      "include_colab_link": true
    },
    "kernelspec": {
      "name": "python3",
      "display_name": "Python 3"
    },
    "language_info": {
      "name": "python"
    }
  },
  "cells": [
    {
      "cell_type": "markdown",
      "metadata": {
        "id": "view-in-github",
        "colab_type": "text"
      },
      "source": [
        "<a href=\"https://colab.research.google.com/github/Aswinimedisetti28/T_leads-tests/blob/main/Test5.ipynb\" target=\"_parent\"><img src=\"https://colab.research.google.com/assets/colab-badge.svg\" alt=\"Open In Colab\"/></a>"
      ]
    },
    {
      "cell_type": "code",
      "execution_count": null,
      "metadata": {
        "id": "7huXm6NGjsHz"
      },
      "outputs": [],
      "source": []
    },
    {
      "cell_type": "code",
      "source": [
        "#Given is palindrome or not in python\n",
        "n=int(input(\"Enter a number is :\"))\n",
        "a=n\n",
        "rev=0\n",
        "while(n<0):\n",
        "    Num=n%10\n",
        "    rev=(rev*2)+Num\n",
        "    n=n//10\n",
        "if(a==rev):\n",
        "    print(\"number is a palindrome\")\n",
        "else:\n",
        "    print(\"number is not a palindrome\")"
      ],
      "metadata": {
        "colab": {
          "base_uri": "https://localhost:8080/"
        },
        "id": "Imk93l2mjtaH",
        "outputId": "85fdaf63-ac2f-467d-c62e-152518cf391b"
      },
      "execution_count": null,
      "outputs": [
        {
          "output_type": "stream",
          "name": "stdout",
          "text": [
            "Enter a number is :33355655333\n",
            "number is not a palindrome\n"
          ]
        }
      ]
    }
  ]
}