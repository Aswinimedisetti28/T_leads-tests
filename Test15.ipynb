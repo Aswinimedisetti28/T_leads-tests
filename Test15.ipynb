{
  "nbformat": 4,
  "nbformat_minor": 0,
  "metadata": {
    "colab": {
      "provenance": [],
      "authorship_tag": "ABX9TyNofQaHY9B8FVipBxqVveVA",
      "include_colab_link": true
    },
    "kernelspec": {
      "name": "python3",
      "display_name": "Python 3"
    },
    "language_info": {
      "name": "python"
    }
  },
  "cells": [
    {
      "cell_type": "markdown",
      "metadata": {
        "id": "view-in-github",
        "colab_type": "text"
      },
      "source": [
        "<a href=\"https://colab.research.google.com/github/Aswinimedisetti28/T_leads-tests/blob/main/Test15.ipynb\" target=\"_parent\"><img src=\"https://colab.research.google.com/assets/colab-badge.svg\" alt=\"Open In Colab\"/></a>"
      ]
    },
    {
      "cell_type": "code",
      "execution_count": null,
      "metadata": {
        "colab": {
          "base_uri": "https://localhost:8080/"
        },
        "id": "FqeEb0Ja9Chn",
        "outputId": "16bdbb0a-d40e-488c-de44-0886c73f4afe"
      },
      "outputs": [
        {
          "output_type": "stream",
          "name": "stdout",
          "text": [
            "Enter a celsius value:90\n",
            "This is the result of Fahrenheit 194\n"
          ]
        }
      ],
      "source": [
        "#To convert celsius to fahrenheit\n",
        "Cel=int(input(\"Enter a celsius value:\"))\n",
        "Fah=(Cel * 1.8) + 32\n",
        "print(\"This is the result of Fahrenheit\", int(Fah) )"
      ]
    }
  ]
}