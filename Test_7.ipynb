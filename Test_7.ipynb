{
  "nbformat": 4,
  "nbformat_minor": 0,
  "metadata": {
    "colab": {
      "provenance": [],
      "include_colab_link": true
    },
    "kernelspec": {
      "name": "python3",
      "display_name": "Python 3"
    },
    "language_info": {
      "name": "python"
    }
  },
  "cells": [
    {
      "cell_type": "markdown",
      "metadata": {
        "id": "view-in-github",
        "colab_type": "text"
      },
      "source": [
        "<a href=\"https://colab.research.google.com/github/Aswinimedisetti28/T_leads-tests/blob/main/Test_7.ipynb\" target=\"_parent\"><img src=\"https://colab.research.google.com/assets/colab-badge.svg\" alt=\"Open In Colab\"/></a>"
      ]
    },
    {
      "cell_type": "code",
      "execution_count": null,
      "metadata": {
        "colab": {
          "base_uri": "https://localhost:8080/"
        },
        "id": "k2X_OQlUC8md",
        "outputId": "0ce1db7e-9952-4b2d-d756-05e918b50730"
      },
      "outputs": [
        {
          "output_type": "stream",
          "name": "stdout",
          "text": [
            "21\n",
            "21 is not prime\n"
          ]
        }
      ],
      "source": [
        "num=int(input())\n",
        "if num>1:\n",
        "    for i in range(2,int(num/2)+1):\n",
        "         if(num%i)==0:\n",
        "              print(num,\"is not prime\")\n",
        "              break\n",
        "    else:\n",
        "          print(num,\"is prime\")\n",
        "else:\n",
        "     print(num,\"is error\")\n"
      ]
    }
  ]
}