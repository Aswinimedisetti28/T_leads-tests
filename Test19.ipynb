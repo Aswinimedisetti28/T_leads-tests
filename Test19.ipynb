{
  "nbformat": 4,
  "nbformat_minor": 0,
  "metadata": {
    "colab": {
      "provenance": [],
      "authorship_tag": "ABX9TyMyHIw8VYPAz/a4CdDRMPPv",
      "include_colab_link": true
    },
    "kernelspec": {
      "name": "python3",
      "display_name": "Python 3"
    },
    "language_info": {
      "name": "python"
    }
  },
  "cells": [
    {
      "cell_type": "markdown",
      "metadata": {
        "id": "view-in-github",
        "colab_type": "text"
      },
      "source": [
        "<a href=\"https://colab.research.google.com/github/Aswinimedisetti28/T_leads-tests/blob/main/Test19.ipynb\" target=\"_parent\"><img src=\"https://colab.research.google.com/assets/colab-badge.svg\" alt=\"Open In Colab\"/></a>"
      ]
    },
    {
      "cell_type": "code",
      "execution_count": null,
      "metadata": {
        "colab": {
          "base_uri": "https://localhost:8080/"
        },
        "id": "VQZyCKsunUGe",
        "outputId": "8b6c96aa-09f7-4009-e5af-eda8119c130c"
      },
      "outputs": [
        {
          "output_type": "stream",
          "name": "stdout",
          "text": [
            "Enter your str1 is: tears\n",
            "Enter your str2 is: arest\n",
            "Given strings are anagram\n"
          ]
        }
      ],
      "source": [
        "#To find given string is Anagram or not.\n",
        "str1=input(\"Enter your str1 is: \")\n",
        "str2=input(\"Enter your str2 is: \")\n",
        "str1=sorted(str1)\n",
        "str2=sorted(str2)\n",
        "if str1==str2:\n",
        "  print(\"Given strings are anagram\")\n",
        "else:\n",
        "  print(\"Given strings are not anagram\")\n"
      ]
    }
  ]
}