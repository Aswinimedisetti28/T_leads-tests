{
  "nbformat": 4,
  "nbformat_minor": 0,
  "metadata": {
    "colab": {
      "provenance": [],
      "authorship_tag": "ABX9TyNMpZwp3HBwykxnADBXMohx",
      "include_colab_link": true
    },
    "kernelspec": {
      "name": "python3",
      "display_name": "Python 3"
    },
    "language_info": {
      "name": "python"
    }
  },
  "cells": [
    {
      "cell_type": "markdown",
      "metadata": {
        "id": "view-in-github",
        "colab_type": "text"
      },
      "source": [
        "<a href=\"https://colab.research.google.com/github/Aswinimedisetti28/T_leads-tests/blob/main/Test20.ipynb\" target=\"_parent\"><img src=\"https://colab.research.google.com/assets/colab-badge.svg\" alt=\"Open In Colab\"/></a>"
      ]
    },
    {
      "cell_type": "code",
      "source": [
        "#TO count the vowels and consonants in a given string\n",
        "str=input(\"Enter your string:\")\n",
        "vowels='AEIOUaeiou'\n",
        "count_vow=0\n",
        "count_con=0\n",
        "for i in str:\n",
        "  if i in vowels:\n",
        "    count_vow+=1\n",
        "  else:\n",
        "    count_con+=1\n",
        "print(\"Vowels count=\", count_vow)\n",
        "print(\"Consonants count=\", count_con)\n",
        "\n",
        "\n"
      ],
      "metadata": {
        "colab": {
          "base_uri": "https://localhost:8080/"
        },
        "id": "-ftqWx_XMte3",
        "outputId": "cbcc335d-171d-4863-cca5-1d8648c28979"
      },
      "execution_count": null,
      "outputs": [
        {
          "output_type": "stream",
          "name": "stdout",
          "text": [
            "Enter your string:hello my yeob\n",
            "Vowels count= 4\n",
            "Consonants count= 9\n"
          ]
        }
      ]
    }
  ]
}