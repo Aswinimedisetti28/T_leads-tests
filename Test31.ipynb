{
  "nbformat": 4,
  "nbformat_minor": 0,
  "metadata": {
    "colab": {
      "provenance": [],
      "authorship_tag": "ABX9TyMWFJ8SNetOdbln6XRZSo1j",
      "include_colab_link": true
    },
    "kernelspec": {
      "name": "python3",
      "display_name": "Python 3"
    },
    "language_info": {
      "name": "python"
    }
  },
  "cells": [
    {
      "cell_type": "markdown",
      "metadata": {
        "id": "view-in-github",
        "colab_type": "text"
      },
      "source": [
        "<a href=\"https://colab.research.google.com/github/Aswinimedisetti28/T_leads-tests/blob/main/Test31.ipynb\" target=\"_parent\"><img src=\"https://colab.research.google.com/assets/colab-badge.svg\" alt=\"Open In Colab\"/></a>"
      ]
    },
    {
      "cell_type": "code",
      "execution_count": null,
      "metadata": {
        "id": "ywtQjUKapbz2",
        "colab": {
          "base_uri": "https://localhost:8080/"
        },
        "outputId": "acf26816-ae73-4886-814a-37de150807d1"
      },
      "outputs": [
        {
          "output_type": "stream",
          "name": "stdout",
          "text": [
            "   1\n",
            "  232\n",
            " 34543\n",
            "4567654\n"
          ]
        }
      ],
      "source": [
        "#Full pyramid pattern using numbers\n",
        "x=0\n",
        "while x<4:\n",
        "  print(\" \"*(3-x), end='')\n",
        "  y=0\n",
        "  z=0\n",
        "  while y-1 < x*2:\n",
        "    if y>x:\n",
        "      print(x*2-z, end='')\n",
        "      z+=1\n",
        "    else:\n",
        "      print(y+x+1, end='')\n",
        "    y+=1\n",
        "  print()\n",
        "  x+=1"
      ]
    }
  ]
}