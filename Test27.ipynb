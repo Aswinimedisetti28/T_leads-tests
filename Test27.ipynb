{
  "nbformat": 4,
  "nbformat_minor": 0,
  "metadata": {
    "colab": {
      "provenance": [],
      "authorship_tag": "ABX9TyP0AONRgIsc87LGKBC3N/uc",
      "include_colab_link": true
    },
    "kernelspec": {
      "name": "python3",
      "display_name": "Python 3"
    },
    "language_info": {
      "name": "python"
    }
  },
  "cells": [
    {
      "cell_type": "markdown",
      "metadata": {
        "id": "view-in-github",
        "colab_type": "text"
      },
      "source": [
        "<a href=\"https://colab.research.google.com/github/Aswinimedisetti28/T_leads-tests/blob/main/Test27.ipynb\" target=\"_parent\"><img src=\"https://colab.research.google.com/assets/colab-badge.svg\" alt=\"Open In Colab\"/></a>"
      ]
    },
    {
      "cell_type": "code",
      "execution_count": null,
      "metadata": {
        "colab": {
          "base_uri": "https://localhost:8080/"
        },
        "id": "VR_ERMdpxkJM",
        "outputId": "e824138c-3ca8-4729-fae4-54a4f86d6bfb"
      },
      "outputs": [
        {
          "output_type": "stream",
          "name": "stdout",
          "text": [
            "The highest frequency element in given array: 20\n",
            "20 is repeated most\n"
          ]
        }
      ],
      "source": [
        "#TO find highest frequence element in array\n",
        "Given_arr=[20, 200, 30, 20, 40, 300, 20, 400, 200]\n",
        "def highest_freq(Given_arr):\n",
        "  return max(set(Given_arr), key=Given_arr.count)\n",
        "result=highest_freq(Given_arr)\n",
        "print(\"The highest frequency element in given array:\", result)\n",
        "print(result,\"is repeated most\")"
      ]
    }
  ]
}