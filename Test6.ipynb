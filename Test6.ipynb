{
  "nbformat": 4,
  "nbformat_minor": 0,
  "metadata": {
    "colab": {
      "provenance": [],
      "authorship_tag": "ABX9TyPOG7iyfSOFmfeawULANi8E",
      "include_colab_link": true
    },
    "kernelspec": {
      "name": "python3",
      "display_name": "Python 3"
    },
    "language_info": {
      "name": "python"
    }
  },
  "cells": [
    {
      "cell_type": "markdown",
      "metadata": {
        "id": "view-in-github",
        "colab_type": "text"
      },
      "source": [
        "<a href=\"https://colab.research.google.com/github/Aswinimedisetti28/T_leads-tests/blob/main/Test6.ipynb\" target=\"_parent\"><img src=\"https://colab.research.google.com/assets/colab-badge.svg\" alt=\"Open In Colab\"/></a>"
      ]
    },
    {
      "cell_type": "code",
      "source": [
        "#given decimal val. to convert the binary in python\n",
        "def binary(n):#using def function to calling\n",
        "  if n > 1:\n",
        "    binary(n//2)\n",
        "  print(n%2, end=\"\")\n",
        "val=int(input(\"enter a value is:\"))\n",
        "Bincode=binary(val)"
      ],
      "metadata": {
        "colab": {
          "base_uri": "https://localhost:8080/"
        },
        "id": "xMytT2rmowxf",
        "outputId": "c14ff9e4-c0ee-408b-8c1f-9a755f228938"
      },
      "execution_count": null,
      "outputs": [
        {
          "output_type": "stream",
          "name": "stdout",
          "text": [
            "enter a value is:15\n",
            "1111"
          ]
        }
      ]
    }
  ]
}