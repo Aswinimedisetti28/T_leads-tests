{
  "nbformat": 4,
  "nbformat_minor": 0,
  "metadata": {
    "colab": {
      "provenance": [],
      "authorship_tag": "ABX9TyNtOabK0MkKVNZgjQZfWB5t",
      "include_colab_link": true
    },
    "kernelspec": {
      "name": "python3",
      "display_name": "Python 3"
    },
    "language_info": {
      "name": "python"
    }
  },
  "cells": [
    {
      "cell_type": "markdown",
      "metadata": {
        "id": "view-in-github",
        "colab_type": "text"
      },
      "source": [
        "<a href=\"https://colab.research.google.com/github/Aswinimedisetti28/T_leads-tests/blob/main/Test25.ipynb\" target=\"_parent\"><img src=\"https://colab.research.google.com/assets/colab-badge.svg\" alt=\"Open In Colab\"/></a>"
      ]
    },
    {
      "cell_type": "code",
      "execution_count": null,
      "metadata": {
        "id": "7tcKvyC_nWD7",
        "colab": {
          "base_uri": "https://localhost:8080/"
        },
        "outputId": "763b762d-2c9c-4320-f4e1-22a62367f5f0"
      },
      "outputs": [
        {
          "output_type": "stream",
          "name": "stdout",
          "text": [
            "Enter your array size:6\n",
            "Enter a size of elements:\n",
            "22\n",
            "35\n",
            "48\n",
            "2\n",
            "87\n",
            "9\n",
            "Odd numbers of given array list:\n",
            "35 87 9 "
          ]
        }
      ],
      "source": [
        "#To find odd numbers in array\n",
        "arr_size=int(input(\"Enter your array size:\"))\n",
        "arr=[]\n",
        "print(\"Enter a size of elements:\")\n",
        "for x in range(arr_size):\n",
        "  ele=int(input())\n",
        "  arr.append(ele)\n",
        "print(\"Odd numbers of given array list:\")\n",
        "for y in arr:\n",
        "    if y%2==0:\n",
        "      pass\n",
        "    else:\n",
        "      print(y, end=\" \")\n",
        "\n"
      ]
    }
  ]
}