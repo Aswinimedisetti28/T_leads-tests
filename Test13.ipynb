{
  "nbformat": 4,
  "nbformat_minor": 0,
  "metadata": {
    "colab": {
      "provenance": [],
      "authorship_tag": "ABX9TyPfSMB7vhZVzULvDrqXMpus",
      "include_colab_link": true
    },
    "kernelspec": {
      "name": "python3",
      "display_name": "Python 3"
    },
    "language_info": {
      "name": "python"
    }
  },
  "cells": [
    {
      "cell_type": "markdown",
      "metadata": {
        "id": "view-in-github",
        "colab_type": "text"
      },
      "source": [
        "<a href=\"https://colab.research.google.com/github/Aswinimedisetti28/T_leads-tests/blob/main/Test13.ipynb\" target=\"_parent\"><img src=\"https://colab.research.google.com/assets/colab-badge.svg\" alt=\"Open In Colab\"/></a>"
      ]
    },
    {
      "cell_type": "code",
      "execution_count": null,
      "metadata": {
        "colab": {
          "base_uri": "https://localhost:8080/"
        },
        "id": "mUkW65PSNWOx",
        "outputId": "05999d28-fe83-49f8-e4c9-33cd21829f96"
      },
      "outputs": [
        {
          "output_type": "stream",
          "name": "stdout",
          "text": [
            "enter a p values is:24\n",
            "enter a q value is:12\n",
            "This is a HCF value: 12\n"
          ]
        }
      ],
      "source": [
        "#To find HCl value\n",
        "p=int(input(\"enter a p values is:\"))\n",
        "q=int(input(\"enter a q value is:\"))\n",
        "if p<q:\n",
        "    minimum=q\n",
        "else:\n",
        "    minimum=p\n",
        "for x in range(1, minimum+1):\n",
        "    if (p%x==0) and (q%x==0):\n",
        "        hcf=x\n",
        "print(\"This is a HCF value:\", hcf)"
      ]
    }
  ]
}