{
  "nbformat": 4,
  "nbformat_minor": 0,
  "metadata": {
    "colab": {
      "provenance": [],
      "authorship_tag": "ABX9TyN/5z0SGu3+vQap25w5rwhI",
      "include_colab_link": true
    },
    "kernelspec": {
      "name": "python3",
      "display_name": "Python 3"
    },
    "language_info": {
      "name": "python"
    }
  },
  "cells": [
    {
      "cell_type": "markdown",
      "metadata": {
        "id": "view-in-github",
        "colab_type": "text"
      },
      "source": [
        "<a href=\"https://colab.research.google.com/github/Aswinimedisetti28/T_leads-tests/blob/main/Test12.ipynb\" target=\"_parent\"><img src=\"https://colab.research.google.com/assets/colab-badge.svg\" alt=\"Open In Colab\"/></a>"
      ]
    },
    {
      "cell_type": "code",
      "execution_count": null,
      "metadata": {
        "id": "Y6zdbGNez62c"
      },
      "outputs": [],
      "source": []
    },
    {
      "cell_type": "code",
      "source": [
        "#LCM of the two members\n",
        "import math\n",
        "X=int(input(\"enter a x value is:\"))\n",
        "X1=int(input(\"enter a X1 value is:\"))\n",
        "Y=math.lcm(X,X1)\n",
        "print(\"This is a LCM:\",Y)"
      ],
      "metadata": {
        "colab": {
          "base_uri": "https://localhost:8080/"
        },
        "id": "uz9aAVWqz8HR",
        "outputId": "65fd7b7d-31a2-4f3d-b1ba-b41eb320522b"
      },
      "execution_count": null,
      "outputs": [
        {
          "output_type": "stream",
          "name": "stdout",
          "text": [
            "enter a x value is:5\n",
            "enter a X1 value is:7\n",
            "This is a LCM: 35\n"
          ]
        }
      ]
    }
  ]
}