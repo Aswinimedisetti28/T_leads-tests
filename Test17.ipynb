{
  "nbformat": 4,
  "nbformat_minor": 0,
  "metadata": {
    "colab": {
      "provenance": [],
      "authorship_tag": "ABX9TyMFjzEvAWVha6B8jQ5L4Ed8",
      "include_colab_link": true
    },
    "kernelspec": {
      "name": "python3",
      "display_name": "Python 3"
    },
    "language_info": {
      "name": "python"
    }
  },
  "cells": [
    {
      "cell_type": "markdown",
      "metadata": {
        "id": "view-in-github",
        "colab_type": "text"
      },
      "source": [
        "<a href=\"https://colab.research.google.com/github/Aswinimedisetti28/T_leads-tests/blob/main/Test17.ipynb\" target=\"_parent\"><img src=\"https://colab.research.google.com/assets/colab-badge.svg\" alt=\"Open In Colab\"/></a>"
      ]
    },
    {
      "cell_type": "code",
      "execution_count": null,
      "metadata": {
        "id": "76K58rgeyovZ"
      },
      "outputs": [],
      "source": []
    },
    {
      "cell_type": "code",
      "source": [
        "#To remove vowels from the given string.\n",
        "Gs=input(\"Enter a your given string:\")\n",
        "vowels=['a', 'e', 'i', 'o', 'u','A', 'E', 'I', 'O', 'U']\n",
        "result=\"\"\n",
        "for char in Gs:\n",
        "  if char not in vowels:\n",
        "    result+=char\n",
        "print(\"This is the final str:\", result)"
      ],
      "metadata": {
        "colab": {
          "base_uri": "https://localhost:8080/"
        },
        "id": "c9T_IPVLypqH",
        "outputId": "a0e630f0-c9fe-43cc-827c-facf3db257ac"
      },
      "execution_count": null,
      "outputs": [
        {
          "output_type": "stream",
          "name": "stdout",
          "text": [
            "Enter a your given string:love you lot momaa \n",
            "This is the final str: lv y lt mm \n"
          ]
        }
      ]
    }
  ]
}