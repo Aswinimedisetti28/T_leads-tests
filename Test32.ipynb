{
  "nbformat": 4,
  "nbformat_minor": 0,
  "metadata": {
    "colab": {
      "provenance": [],
      "authorship_tag": "ABX9TyNrJ/Kqn+WtjR+9fXNbJbOQ",
      "include_colab_link": true
    },
    "kernelspec": {
      "name": "python3",
      "display_name": "Python 3"
    },
    "language_info": {
      "name": "python"
    }
  },
  "cells": [
    {
      "cell_type": "markdown",
      "metadata": {
        "id": "view-in-github",
        "colab_type": "text"
      },
      "source": [
        "<a href=\"https://colab.research.google.com/github/Aswinimedisetti28/T_leads-tests/blob/main/Test32.ipynb\" target=\"_parent\"><img src=\"https://colab.research.google.com/assets/colab-badge.svg\" alt=\"Open In Colab\"/></a>"
      ]
    },
    {
      "cell_type": "code",
      "execution_count": null,
      "metadata": {
        "colab": {
          "base_uri": "https://localhost:8080/"
        },
        "id": "JyDMcRhY2zDW",
        "outputId": "66ef01ec-98fe-4fdc-90ed-6e29af498e4a"
      },
      "outputs": [
        {
          "output_type": "stream",
          "name": "stdout",
          "text": [
            "*\n",
            "**\n",
            "***\n",
            "****\n",
            "*****\n",
            "****\n",
            "***\n",
            "**\n",
            "*\n"
          ]
        }
      ],
      "source": [
        "#Right half diamond pattern\n",
        "right=5\n",
        "for x in range(1, right):\n",
        "  for y in range(1, x+1):\n",
        "    print(\"*\", end=\"\")\n",
        "  print()\n",
        "for x in range(right, 0, -1):\n",
        "  for y in range(1, x+1):\n",
        "    print(\"*\", end=\"\")\n",
        "  print()\n"
      ]
    }
  ]
}