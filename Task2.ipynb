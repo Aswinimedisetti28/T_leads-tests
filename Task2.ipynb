{
  "nbformat": 4,
  "nbformat_minor": 0,
  "metadata": {
    "colab": {
      "provenance": [],
      "authorship_tag": "ABX9TyMfDRjpC5Gp/v5BwARuLktI",
      "include_colab_link": true
    },
    "kernelspec": {
      "name": "python3",
      "display_name": "Python 3"
    },
    "language_info": {
      "name": "python"
    }
  },
  "cells": [
    {
      "cell_type": "markdown",
      "metadata": {
        "id": "view-in-github",
        "colab_type": "text"
      },
      "source": [
        "<a href=\"https://colab.research.google.com/github/Aswinimedisetti28/T_leads-tests/blob/main/Task2.ipynb\" target=\"_parent\"><img src=\"https://colab.research.google.com/assets/colab-badge.svg\" alt=\"Open In Colab\"/></a>"
      ]
    },
    {
      "cell_type": "code",
      "execution_count": null,
      "metadata": {
        "colab": {
          "base_uri": "https://localhost:8080/"
        },
        "id": "Qq_J_nzBTA2W",
        "outputId": "7cb44cad-c690-4129-8931-6e351d2fde41"
      },
      "outputs": [
        {
          "output_type": "stream",
          "name": "stdout",
          "text": [
            "3000\n",
            "5\n",
            "3\n",
            "450\n"
          ]
        }
      ],
      "source": [
        "p=int(input())\n",
        "r=int(input())#reading 3 inputs\n",
        "t=int(input())\n",
        "SI=(p*t*r)/100 # formula of simple interest\n",
        "Float_SI=int(SI)\n",
        "print(Float_SI) # using print() function\n"
      ]
    }
  ]
}