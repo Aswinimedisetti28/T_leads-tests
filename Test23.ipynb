{
  "nbformat": 4,
  "nbformat_minor": 0,
  "metadata": {
    "colab": {
      "provenance": [],
      "authorship_tag": "ABX9TyM+VlYt+9r98k2K2HAwAInF",
      "include_colab_link": true
    },
    "kernelspec": {
      "name": "python3",
      "display_name": "Python 3"
    },
    "language_info": {
      "name": "python"
    }
  },
  "cells": [
    {
      "cell_type": "markdown",
      "metadata": {
        "id": "view-in-github",
        "colab_type": "text"
      },
      "source": [
        "<a href=\"https://colab.research.google.com/github/Aswinimedisetti28/T_leads-tests/blob/main/Test23.ipynb\" target=\"_parent\"><img src=\"https://colab.research.google.com/assets/colab-badge.svg\" alt=\"Open In Colab\"/></a>"
      ]
    },
    {
      "cell_type": "code",
      "execution_count": null,
      "metadata": {
        "colab": {
          "base_uri": "https://localhost:8080/"
        },
        "id": "-mrTYzXG19Dr",
        "outputId": "0818a0eb-910b-4887-ae41-0f6d1a8543ff"
      },
      "outputs": [
        {
          "output_type": "stream",
          "name": "stdout",
          "text": [
            "Two largest numbers is: 90 79\n"
          ]
        }
      ],
      "source": [
        "#To find two largest numbers using array\n",
        "arr=[38, 55, 79, 90, 2, 39]\n",
        "arr.sort()\n",
        "first_lnum, second_lnum=arr[-1], arr[-2]\n",
        "print(\"Two largest numbers is:\", first_lnum, second_lnum)\n"
      ]
    }
  ]
}