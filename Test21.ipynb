{
  "nbformat": 4,
  "nbformat_minor": 0,
  "metadata": {
    "colab": {
      "provenance": [],
      "authorship_tag": "ABX9TyNCOP9N33FAUVQb4UnJRDBm",
      "include_colab_link": true
    },
    "kernelspec": {
      "name": "python3",
      "display_name": "Python 3"
    },
    "language_info": {
      "name": "python"
    }
  },
  "cells": [
    {
      "cell_type": "markdown",
      "metadata": {
        "id": "view-in-github",
        "colab_type": "text"
      },
      "source": [
        "<a href=\"https://colab.research.google.com/github/Aswinimedisetti28/T_leads-tests/blob/main/Test21.ipynb\" target=\"_parent\"><img src=\"https://colab.research.google.com/assets/colab-badge.svg\" alt=\"Open In Colab\"/></a>"
      ]
    },
    {
      "cell_type": "code",
      "execution_count": null,
      "metadata": {
        "colab": {
          "base_uri": "https://localhost:8080/"
        },
        "id": "ekOzunFwT2SZ",
        "outputId": "176fd477-0593-4771-9eda-12de512231d6"
      },
      "outputs": [
        {
          "output_type": "stream",
          "name": "stdout",
          "text": [
            "Enter your string is:anaconda vs lion\n",
            "c d v s l i "
          ]
        }
      ],
      "source": [
        "#To find all non-repeated characters in a given string\n",
        "sentance=input(\"Enter your string is:\")\n",
        "for x in sentance:\n",
        "  if sentance.count(x)<2:\n",
        "    print(x, end=\" \")\n"
      ]
    }
  ]
}