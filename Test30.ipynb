{
  "nbformat": 4,
  "nbformat_minor": 0,
  "metadata": {
    "colab": {
      "provenance": [],
      "authorship_tag": "ABX9TyPIZQgtxqFsOndscsFW3dU7",
      "include_colab_link": true
    },
    "kernelspec": {
      "name": "python3",
      "display_name": "Python 3"
    },
    "language_info": {
      "name": "python"
    }
  },
  "cells": [
    {
      "cell_type": "markdown",
      "metadata": {
        "id": "view-in-github",
        "colab_type": "text"
      },
      "source": [
        "<a href=\"https://colab.research.google.com/github/Aswinimedisetti28/T_leads-tests/blob/main/Test30.ipynb\" target=\"_parent\"><img src=\"https://colab.research.google.com/assets/colab-badge.svg\" alt=\"Open In Colab\"/></a>"
      ]
    },
    {
      "cell_type": "code",
      "execution_count": null,
      "metadata": {
        "colab": {
          "base_uri": "https://localhost:8080/"
        },
        "id": "LS3wMEURVpav",
        "outputId": "d73a7be4-69f6-43bd-a721-9663fadce966"
      },
      "outputs": [
        {
          "output_type": "stream",
          "name": "stdout",
          "text": [
            "Enter a number of rows:5\n",
            "1 2 3 4 5 \n",
            "1 2 3 4 \n",
            "1 2 3 \n",
            "1 2 \n",
            "1 \n"
          ]
        }
      ],
      "source": [
        "#Inverted half pyramid pattern is using numbers\n",
        "num=int(input(\"Enter a number of rows:\"))\n",
        "for x in range(num, 0, -1):\n",
        "  for y in range(1, x+1):\n",
        "    print(y, end=\" \")\n",
        "  print()"
      ]
    }
  ]
}