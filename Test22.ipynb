{
  "nbformat": 4,
  "nbformat_minor": 0,
  "metadata": {
    "colab": {
      "provenance": [],
      "authorship_tag": "ABX9TyNV9Ewt8C3+djqSDRSJWfZM",
      "include_colab_link": true
    },
    "kernelspec": {
      "name": "python3",
      "display_name": "Python 3"
    },
    "language_info": {
      "name": "python"
    }
  },
  "cells": [
    {
      "cell_type": "markdown",
      "metadata": {
        "id": "view-in-github",
        "colab_type": "text"
      },
      "source": [
        "<a href=\"https://colab.research.google.com/github/Aswinimedisetti28/T_leads-tests/blob/main/Test22.ipynb\" target=\"_parent\"><img src=\"https://colab.research.google.com/assets/colab-badge.svg\" alt=\"Open In Colab\"/></a>"
      ]
    },
    {
      "cell_type": "code",
      "execution_count": null,
      "metadata": {
        "colab": {
          "base_uri": "https://localhost:8080/"
        },
        "id": "UbfsTGptyDLt",
        "outputId": "ab631211-acea-4f07-cde0-de67d6fbadff"
      },
      "outputs": [
        {
          "output_type": "stream",
          "name": "stdout",
          "text": [
            "Enter a string:cobra dance\n",
            " aabccdenor\n"
          ]
        }
      ],
      "source": [
        "#To sort string characters in asscending order\n",
        "str=input(\"Enter a string:\")\n",
        "sort_str=''.join(sorted(str))\n",
        "print(sort_str)"
      ]
    }
  ]
}