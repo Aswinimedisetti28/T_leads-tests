{
  "nbformat": 4,
  "nbformat_minor": 0,
  "metadata": {
    "colab": {
      "provenance": [],
      "authorship_tag": "ABX9TyNaqIWPBtybOJ8soooIYRiE",
      "include_colab_link": true
    },
    "kernelspec": {
      "name": "python3",
      "display_name": "Python 3"
    },
    "language_info": {
      "name": "python"
    }
  },
  "cells": [
    {
      "cell_type": "markdown",
      "metadata": {
        "id": "view-in-github",
        "colab_type": "text"
      },
      "source": [
        "<a href=\"https://colab.research.google.com/github/Aswinimedisetti28/T_leads-tests/blob/main/Test10.ipynb\" target=\"_parent\"><img src=\"https://colab.research.google.com/assets/colab-badge.svg\" alt=\"Open In Colab\"/></a>"
      ]
    },
    {
      "cell_type": "code",
      "source": [
        "\n",
        "b=int(input(\" Enter base Val:\"))\n",
        "E=int(input(\" Enter exponent Val:\"))\n",
        "result=1\n",
        "for E in range(E, 0, -1):\n",
        "   result*=b\n",
        "print(result, \"is a 10 power of 3\")"
      ],
      "metadata": {
        "colab": {
          "base_uri": "https://localhost:8080/"
        },
        "id": "bW6YVQtJEKh5",
        "outputId": "e7399f0a-a755-4acc-90ab-d704dc42d428"
      },
      "execution_count": null,
      "outputs": [
        {
          "output_type": "stream",
          "name": "stdout",
          "text": [
            " Enter base Val:10\n",
            " Enter exponent Val:3\n",
            "1000 is a 10 power of 3\n"
          ]
        }
      ]
    }
  ]
}