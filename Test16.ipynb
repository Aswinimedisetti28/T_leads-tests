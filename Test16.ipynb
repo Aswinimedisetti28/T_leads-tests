{
  "nbformat": 4,
  "nbformat_minor": 0,
  "metadata": {
    "colab": {
      "provenance": [],
      "authorship_tag": "ABX9TyNhtlsCXuveUQAKs09kWLRo",
      "include_colab_link": true
    },
    "kernelspec": {
      "name": "python3",
      "display_name": "Python 3"
    },
    "language_info": {
      "name": "python"
    }
  },
  "cells": [
    {
      "cell_type": "markdown",
      "metadata": {
        "id": "view-in-github",
        "colab_type": "text"
      },
      "source": [
        "<a href=\"https://colab.research.google.com/github/Aswinimedisetti28/T_leads-tests/blob/main/Test16.ipynb\" target=\"_parent\"><img src=\"https://colab.research.google.com/assets/colab-badge.svg\" alt=\"Open In Colab\"/></a>"
      ]
    },
    {
      "cell_type": "code",
      "execution_count": null,
      "metadata": {
        "id": "7UybL2f0go6x"
      },
      "outputs": [],
      "source": []
    },
    {
      "cell_type": "code",
      "source": [
        "#To calculate simple interest\n",
        "p=int(input(\"Enter a principle value:\"))\n",
        "r=int(input(\"Enter a rate of interest:\"))\n",
        "t=int(input(\"Enter a time:\"))\n",
        "si=(p * r * t)/100\n",
        "print(\"The value of simple interest:\", si)\n"
      ],
      "metadata": {
        "colab": {
          "base_uri": "https://localhost:8080/"
        },
        "id": "Yfb1R8qGgva4",
        "outputId": "01809f8e-7363-4a31-ddc0-92c308e5db25"
      },
      "execution_count": null,
      "outputs": [
        {
          "output_type": "stream",
          "name": "stdout",
          "text": [
            "Enter a principle value:2500\n",
            "Enter a rate of interest:3\n",
            "Enter a time:15\n",
            "The value of simple interest: 1125.0\n"
          ]
        }
      ]
    }
  ]
}