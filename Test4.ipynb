{
  "nbformat": 4,
  "nbformat_minor": 0,
  "metadata": {
    "colab": {
      "provenance": [],
      "authorship_tag": "ABX9TyMezUSKHJgxaIdy7rcVtji/",
      "include_colab_link": true
    },
    "kernelspec": {
      "name": "python3",
      "display_name": "Python 3"
    },
    "language_info": {
      "name": "python"
    }
  },
  "cells": [
    {
      "cell_type": "markdown",
      "metadata": {
        "id": "view-in-github",
        "colab_type": "text"
      },
      "source": [
        "<a href=\"https://colab.research.google.com/github/Aswinimedisetti28/T_leads-tests/blob/main/Test4.ipynb\" target=\"_parent\"><img src=\"https://colab.research.google.com/assets/colab-badge.svg\" alt=\"Open In Colab\"/></a>"
      ]
    },
    {
      "cell_type": "code",
      "execution_count": null,
      "metadata": {
        "colab": {
          "base_uri": "https://localhost:8080/"
        },
        "id": "ZAkrSfHlE4qE",
        "outputId": "1340ef40-406d-4c53-effe-5897838f6a2c"
      },
      "outputs": [
        {
          "output_type": "stream",
          "name": "stdout",
          "text": [
            "13 8 5 3 2 1 1 0 "
          ]
        }
      ],
      "source": [
        "\n",
        "#reverse order of Fibonacci series\n",
        "n1=0\n",
        "n2=1\n",
        "list=[]\n",
        "for i in range(8):\n",
        "    list.append(n1)\n",
        "    Next_val=n1+n2\n",
        "    n1=n2\n",
        "    n2=Next_val\n",
        "list.reverse()\n",
        "for i in list:\n",
        "    print(i, end=\" \")"
      ]
    }
  ]
}