{
  "nbformat": 4,
  "nbformat_minor": 0,
  "metadata": {
    "colab": {
      "provenance": [],
      "authorship_tag": "ABX9TyP+3FdIhx5+nLEDqqKZuo1C",
      "include_colab_link": true
    },
    "kernelspec": {
      "name": "python3",
      "display_name": "Python 3"
    },
    "language_info": {
      "name": "python"
    }
  },
  "cells": [
    {
      "cell_type": "markdown",
      "metadata": {
        "id": "view-in-github",
        "colab_type": "text"
      },
      "source": [
        "<a href=\"https://colab.research.google.com/github/Aswinimedisetti28/T_leads-tests/blob/main/Test4.ipynb\" target=\"_parent\"><img src=\"https://colab.research.google.com/assets/colab-badge.svg\" alt=\"Open In Colab\"/></a>"
      ]
    },
    {
      "cell_type": "code",
      "execution_count": null,
      "metadata": {
        "colab": {
          "base_uri": "https://localhost:8080/"
        },
        "id": "FKpv55i78w5K",
        "outputId": "f6737d97-1904-474c-b8a0-b0d230d89b6f"
      },
      "outputs": [
        {
          "output_type": "stream",
          "name": "stdout",
          "text": [
            "13 8 5 3 2 1 1 0 "
          ]
        }
      ],
      "source": [
        "\n",
        "# reverse order of Fibonacci series\n",
        "n1=0\n",
        "n2=1\n",
        "list=[]\n",
        "for i in range(8):\n",
        "    list.append(n1)\n",
        "    next_value=n1+n2\n",
        "    n1=n2\n",
        "    n2=next_value\n",
        "list.reverse()\n",
        "for i in list:\n",
        "    print(i, end=\" \")"
      ]
    }
  ]
}