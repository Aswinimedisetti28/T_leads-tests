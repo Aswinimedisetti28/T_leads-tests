{
  "nbformat": 4,
  "nbformat_minor": 0,
  "metadata": {
    "colab": {
      "provenance": [],
      "authorship_tag": "ABX9TyOWmVYlrwuNpiZ3rHaxgypV",
      "include_colab_link": true
    },
    "kernelspec": {
      "name": "python3",
      "display_name": "Python 3"
    },
    "language_info": {
      "name": "python"
    }
  },
  "cells": [
    {
      "cell_type": "markdown",
      "metadata": {
        "id": "view-in-github",
        "colab_type": "text"
      },
      "source": [
        "<a href=\"https://colab.research.google.com/github/Aswinimedisetti28/T_leads-tests/blob/main/Test24.ipynb\" target=\"_parent\"><img src=\"https://colab.research.google.com/assets/colab-badge.svg\" alt=\"Open In Colab\"/></a>"
      ]
    },
    {
      "cell_type": "code",
      "execution_count": null,
      "metadata": {
        "colab": {
          "base_uri": "https://localhost:8080/"
        },
        "id": "lLdL41Dp2_LI",
        "outputId": "7cb6293d-ef20-4aeb-88a8-374664bd4ea9"
      },
      "outputs": [
        {
          "output_type": "stream",
          "name": "stdout",
          "text": [
            "Enter the element:40\n",
            "index val:3\n",
            "Final array list is: [20, 200, 2000, 40, 400, 4000, 30]\n"
          ]
        }
      ],
      "source": [
        "#To insert element at given location in array\n",
        "ele=int(input(\"Enter the element:\"))\n",
        "index=int(input(\"index val:\"))\n",
        "arr=[20, 200, 2000,  400, 4000, 30 ]\n",
        "arr.insert(index, ele)\n",
        "print(\"Final array list is:\", arr)\n"
      ]
    }
  ]
}