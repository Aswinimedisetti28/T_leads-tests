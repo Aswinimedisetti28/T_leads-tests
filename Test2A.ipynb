{
  "nbformat": 4,
  "nbformat_minor": 0,
  "metadata": {
    "colab": {
      "provenance": [],
      "authorship_tag": "ABX9TyPTG8mOMW56DGMg8CRBEHED",
      "include_colab_link": true
    },
    "kernelspec": {
      "name": "python3",
      "display_name": "Python 3"
    },
    "language_info": {
      "name": "python"
    }
  },
  "cells": [
    {
      "cell_type": "markdown",
      "metadata": {
        "id": "view-in-github",
        "colab_type": "text"
      },
      "source": [
        "<a href=\"https://colab.research.google.com/github/Aswinimedisetti28/T_leads-tests/blob/main/Test2A.ipynb\" target=\"_parent\"><img src=\"https://colab.research.google.com/assets/colab-badge.svg\" alt=\"Open In Colab\"/></a>"
      ]
    },
    {
      "cell_type": "code",
      "source": [
        "#Inverted triangle pattern in python\n",
        "num=int(input(\"Enter a number of rows:\"))\n",
        "for m in range(num):\n",
        "    for n in range(m):\n",
        "        print(\" \", end=\"\")\n",
        "    for n in range(num-m):\n",
        "        print(\"*\", end=\" \")\n",
        "    print()"
      ],
      "metadata": {
        "colab": {
          "base_uri": "https://localhost:8080/"
        },
        "id": "Cj_AyXrdnLzO",
        "outputId": "093b3f34-ca23-4e93-ac38-e5e9953e585c"
      },
      "execution_count": null,
      "outputs": [
        {
          "output_type": "stream",
          "name": "stdout",
          "text": [
            "Enter a number of rows:5\n",
            "****\n",
            " ****\n",
            "  ****\n",
            "   ****\n",
            "    ****\n"
          ]
        }
      ]
    }
  ]
}