{
  "nbformat": 4,
  "nbformat_minor": 0,
  "metadata": {
    "colab": {
      "provenance": [],
      "include_colab_link": true
    },
    "kernelspec": {
      "name": "python3",
      "display_name": "Python 3"
    },
    "language_info": {
      "name": "python"
    }
  },
  "cells": [
    {
      "cell_type": "markdown",
      "metadata": {
        "id": "view-in-github",
        "colab_type": "text"
      },
      "source": [
        "<a href=\"https://colab.research.google.com/github/Aswinimedisetti28/T_leads-tests/blob/main/Test_4_.ipynb\" target=\"_parent\"><img src=\"https://colab.research.google.com/assets/colab-badge.svg\" alt=\"Open In Colab\"/></a>"
      ]
    },
    {
      "cell_type": "code",
      "execution_count": null,
      "metadata": {
        "colab": {
          "base_uri": "https://localhost:8080/"
        },
        "id": "8aZkPlBUxEws",
        "outputId": "2b259c77-43d4-45a7-9e01-f4bc14beaad0"
      },
      "outputs": [
        {
          "output_type": "stream",
          "name": "stdout",
          "text": [
            "13\n",
            "8\n",
            "5\n",
            "3\n",
            "2\n",
            "1\n",
            "1\n",
            "0\n"
          ]
        }
      ],
      "source": [
        "a=0\n",
        "b=1\n",
        "list=[]\n",
        "for n in range(8):\n",
        "    list.append(a)\n",
        "    c=a+b\n",
        "    a=b\n",
        "    b=c\n",
        "list.reverse()\n",
        "for n in list:\n",
        "    print(n)"
      ]
    }
  ]
}