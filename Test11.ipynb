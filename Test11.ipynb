{
  "nbformat": 4,
  "nbformat_minor": 0,
  "metadata": {
    "colab": {
      "provenance": [],
      "authorship_tag": "ABX9TyOVqeoyno1W1rK1hb0k6h/0",
      "include_colab_link": true
    },
    "kernelspec": {
      "name": "python3",
      "display_name": "Python 3"
    },
    "language_info": {
      "name": "python"
    }
  },
  "cells": [
    {
      "cell_type": "markdown",
      "metadata": {
        "id": "view-in-github",
        "colab_type": "text"
      },
      "source": [
        "<a href=\"https://colab.research.google.com/github/Aswinimedisetti28/T_leads-tests/blob/main/Test11.ipynb\" target=\"_parent\"><img src=\"https://colab.research.google.com/assets/colab-badge.svg\" alt=\"Open In Colab\"/></a>"
      ]
    },
    {
      "cell_type": "code",
      "execution_count": null,
      "metadata": {
        "colab": {
          "base_uri": "https://localhost:8080/"
        },
        "id": "Y2ZLQW26pIga",
        "outputId": "2ce6b644-084e-40a2-dfdc-25fb96a7cba7"
      },
      "outputs": [
        {
          "output_type": "stream",
          "name": "stdout",
          "text": [
            "enter a given number is:441\n",
            "This is a square root of a number: 21.0\n"
          ]
        }
      ],
      "source": [
        "#To calculate square root of a number\n",
        "num=float(input(\"enter a given number is:\"))\n",
        "sqrt=num**(1/2)\n",
        "print( \"This is a square root of a number:\", sqrt)"
      ]
    }
  ]
}