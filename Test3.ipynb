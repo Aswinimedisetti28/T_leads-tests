{
  "nbformat": 4,
  "nbformat_minor": 0,
  "metadata": {
    "colab": {
      "provenance": [],
      "authorship_tag": "ABX9TyNal8dYVLQd8yMtyazSxDAn",
      "include_colab_link": true
    },
    "kernelspec": {
      "name": "python3",
      "display_name": "Python 3"
    },
    "language_info": {
      "name": "python"
    }
  },
  "cells": [
    {
      "cell_type": "markdown",
      "metadata": {
        "id": "view-in-github",
        "colab_type": "text"
      },
      "source": [
        "<a href=\"https://colab.research.google.com/github/Aswinimedisetti28/T_leads-tests/blob/main/Test3.ipynb\" target=\"_parent\"><img src=\"https://colab.research.google.com/assets/colab-badge.svg\" alt=\"Open In Colab\"/></a>"
      ]
    },
    {
      "cell_type": "code",
      "execution_count": null,
      "metadata": {
        "id": "p8lKNjxE2eBv"
      },
      "outputs": [],
      "source": []
    },
    {
      "cell_type": "code",
      "source": [
        "#ARMSTRONG NUMBER IN PYTHON\n",
        "NUM=int(input(\"Enter a number is:\"))\n",
        "SUM=0\n",
        "temp=NUM\n",
        "while temp>0:\n",
        "  digit=temp%10\n",
        "  SUM+=digit**3\n",
        "  temp//=10\n",
        "if NUM==SUM:\n",
        "    print(\"yes\")\n",
        "    print(NUM, \"is an armstrong number\")\n",
        "else:\n",
        "    print(\"No\")\n",
        "    print(NUM,\"is not an armstrong number\")\n"
      ],
      "metadata": {
        "colab": {
          "base_uri": "https://localhost:8080/"
        },
        "id": "_af6_psA2j-C",
        "outputId": "95ad7390-e44a-4189-a7d8-eb0026265ba6"
      },
      "execution_count": null,
      "outputs": [
        {
          "output_type": "stream",
          "name": "stdout",
          "text": [
            "Enter a number is:163\n",
            "No\n",
            "163 is not an armstrong number\n"
          ]
        }
      ]
    }
  ]
}