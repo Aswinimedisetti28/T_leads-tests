{
  "nbformat": 4,
  "nbformat_minor": 0,
  "metadata": {
    "colab": {
      "provenance": [],
      "authorship_tag": "ABX9TyN8XAWlpKXc5EsX2zBleTOH",
      "include_colab_link": true
    },
    "kernelspec": {
      "name": "python3",
      "display_name": "Python 3"
    },
    "language_info": {
      "name": "python"
    }
  },
  "cells": [
    {
      "cell_type": "markdown",
      "metadata": {
        "id": "view-in-github",
        "colab_type": "text"
      },
      "source": [
        "<a href=\"https://colab.research.google.com/github/Aswinimedisetti28/T_leads-tests/blob/main/Task20.ipynb\" target=\"_parent\"><img src=\"https://colab.research.google.com/assets/colab-badge.svg\" alt=\"Open In Colab\"/></a>"
      ]
    },
    {
      "cell_type": "code",
      "execution_count": null,
      "metadata": {
        "id": "iLCuVt3y72Xw",
        "outputId": "b3f30882-e56a-465d-934a-751dcbadf8f5",
        "colab": {
          "base_uri": "https://localhost:8080/"
        }
      },
      "outputs": [
        {
          "output_type": "stream",
          "name": "stdout",
          "text": [
            "Enter your string: Hello python\n",
            "Number of vowels: 3\n",
            "Number of consonants: 8\n"
          ]
        }
      ],
      "source": [
        "def count(sowji):\n",
        "    vowels = \"aeiouAEIOU\"\n",
        "    consonants = \"bcdfghjklmnpqrstvwxyzBCDFGHJKLMNPQRSTVWXYZ\"\n",
        "    count = {'vowels': 0, 'consonants': 0}\n",
        "\n",
        "    for char in sowji:\n",
        "        if char in vowels:\n",
        "            count[\"vowels\"] += 1\n",
        "        elif char in consonants:\n",
        "            count[\"consonants\"] += 1\n",
        "\n",
        "    return count\n",
        "\n",
        "sowji = input(\"Enter your string: \")\n",
        "counts = count(sowji)\n",
        "print(\"Number of vowels:\", counts['vowels'])\n",
        "print(\"Number of consonants:\", counts['consonants'])"
      ]
    }
  ]
}